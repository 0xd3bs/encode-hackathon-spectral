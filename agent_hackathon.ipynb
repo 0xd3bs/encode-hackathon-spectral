{
 "cells": [
  {
   "cell_type": "markdown",
   "metadata": {},
   "source": [
    "# Libraries import\n",
    "- Data wrangling and indicators generate\n",
    "- api to trade (Binance)\n",
    "- api llm (openai)"
   ]
  },
  {
   "cell_type": "code",
   "execution_count": 53,
   "metadata": {},
   "outputs": [],
   "source": [
    "import os\n",
    "import pandas as pd\n",
    "import numpy as np\n",
    "import schedule\n",
    "import ta\n",
    "import time\n",
    "import re\n",
    "from datetime import datetime\n",
    "from dotenv import load_dotenv\n",
    "from binance.client import Client\n",
    "import openai\n",
    "from openai import OpenAI\n",
    "\n",
    "load_dotenv();"
   ]
  },
  {
   "cell_type": "markdown",
   "metadata": {},
   "source": [
    "# APIS Configuration"
   ]
  },
  {
   "cell_type": "code",
   "execution_count": 54,
   "metadata": {},
   "outputs": [],
   "source": [
    "mclient = Client(os.getenv(\"BINANCE_API_KEY\"), api_secret = os.getenv(\"BINANCE_API_SECRET\"),testnet=True)"
   ]
  },
  {
   "cell_type": "code",
   "execution_count": 55,
   "metadata": {},
   "outputs": [],
   "source": [
    "openai_client = OpenAI(api_key=os.getenv(\"OPENAI_API_KEY\"))"
   ]
  },
  {
   "cell_type": "markdown",
   "metadata": {},
   "source": [
    "# We build functions\n",
    "- Data download\n",
    "- Calculation of indicators\n",
    "- Signals\n",
    "- Operations executor\n",
    "- Log function\n",
    "- Agent executor"
   ]
  },
  {
   "cell_type": "code",
   "execution_count": 56,
   "metadata": {},
   "outputs": [],
   "source": [
    "def get_data(ticker,period):  \n",
    "    klines = mclient.get_historical_klines(ticker, period, limit = 1000) #since, to\n",
    "    df = pd.DataFrame(klines)\n",
    "    df = df.iloc[:,[0,1,2,3,4,5,7,8,9,10]] \n",
    "    df.columns = ['Time','Open','High','Low','Close','VolumeCurr','VolumeUSD','Trades','VolumeBase','Volume2']\n",
    "    df = df.set_index('Time')\n",
    "    df.index = pd.to_datetime(df.index, unit='ms')\n",
    "    df=df.astype(\"float\")\n",
    "    df['ASSET'] = f\"{ticker}\"[0:3] \n",
    "    return df"
   ]
  },
  {
   "cell_type": "code",
   "execution_count": 57,
   "metadata": {},
   "outputs": [],
   "source": [
    "def get_indicators(df):\n",
    "    df['var_pct'] = df['Close'].pct_change()\n",
    "    df = df.dropna(subset=['var_pct']).copy()  # Asegúrate de trabajar con una copia explícita\n",
    "    df['SMA_20'] = ta.trend.sma_indicator(df['Close'], window=20)\n",
    "    df['SMA_50'] = ta.trend.sma_indicator(df['Close'], window=50)\n",
    "    df['RSI'] = ta.momentum.rsi(df['Close'], window=14)\n",
    "    df['MACD'] = ta.trend.macd(df['Close'])\n",
    "    df['MACD_Signal'] = ta.trend.macd_signal(df['Close'])\n",
    "\n",
    "    df['MA20'] = df['Close'].rolling(20).mean()\n",
    "    df['MA100'] = df['Close'].rolling(100).mean()\n",
    "    \n",
    "    df['Signal'] = 0.0\n",
    "    df.loc[df['MA20'] > df['MA100'], 'Signal'] = 1.0\n",
    "    df.loc[df['MA20'] < df['MA100'], 'Signal'] = -1.0\n",
    "\n",
    "    df['Plog_ret'] = np.log(df.Close) - np.log(df.Close.shift(1))\n",
    "    df['pup_6std'] = df.Close*(1+(df.Plog_ret.mean() + 6*df.Plog_ret.std()))\n",
    "    df['pdown_6std'] = df.Close*(1+(df.Plog_ret.mean() - 6*df.Plog_ret.std()))\n",
    "\n",
    "    df['std_dev'] = df['Close'].rolling(window=20).std()\n",
    "    df['upper_band'] = df['SMA_20'] + (6 * df['std_dev'])\n",
    "    df['lower_band'] = df['SMA_20'] - (6 * df['std_dev'])\n",
    "    return df"
   ]
  },
  {
   "cell_type": "code",
   "execution_count": 58,
   "metadata": {},
   "outputs": [],
   "source": [
    "def get_signal(df):\n",
    "\n",
    "    buy_signals = (df['Signal'].shift(1) == -1.0) & (df['Signal'] == 1.0)\n",
    "    sell_signals = (df['Signal'].shift(1) == 1.0) & (df['Signal'] == -1.0)\n",
    "\n",
    "    df.loc[buy_signals, 'Trade_Signal'] = 'BUY'\n",
    "\n",
    "    df.loc[sell_signals, 'Trade_Signal'] = 'SELL'\n",
    "    return df"
   ]
  },
  {
   "cell_type": "code",
   "execution_count": 59,
   "metadata": {},
   "outputs": [],
   "source": [
    "mbalance = mclient.get_asset_balance(asset='USDT')"
   ]
  },
  {
   "cell_type": "code",
   "execution_count": 60,
   "metadata": {},
   "outputs": [],
   "source": [
    "def get_chat(system_prompt,user_message):\n",
    "    completion = openai_client.beta.chat.completions.parse(\n",
    "    model=\"gpt-4o-mini\",\n",
    "    messages=[\n",
    "      {\"role\":'system','content':system_prompt},\n",
    "      {\"role\": \"user\", \"content\": user_message}\n",
    "    ]\n",
    "  )\n",
    "    respon = completion.choices[0].message.content\n",
    "    masset = re.search(r\"\\*\\*Asset\\*\\*: (\\w+)\",respon).group(1)\n",
    "    direction = re.search(r\"\\*\\*Direction\\*\\*: (\\w+)\",respon).group(1)\n",
    "    if direction == 'Hold':\n",
    "        msize = 0\n",
    "    else:\n",
    "        msize = re.search(r\"\\*\\*Operation size\\*\\*: (\\d+ USD)\",respon).group(1)[0:3]\n",
    "    print(respon)\n",
    "    return masset, direction, msize"
   ]
  },
  {
   "cell_type": "code",
   "execution_count": 61,
   "metadata": {},
   "outputs": [],
   "source": [
    "def get_trade(direccion, activo):\n",
    "    global price_eject\n",
    "    if masset == 'USDT':\n",
    "\n",
    "        price_eject = 0\n",
    "        print('No order is placed')\n",
    "    \n",
    "    else:\n",
    "        symbol_to_find = f\"{activo}\"+'USDT'\n",
    "        cantidad = round(100/float(next((item for item in mclient.get_all_tickers() if item['symbol'] == symbol_to_find), None)['price']),4)\n",
    "        if direccion == 'Buy':\n",
    "            order = mclient.order_market_buy(symbol=f\"{activo}\"+'USDT', quantity=cantidad,type = 'MARKET')\n",
    "            price_eject = order['fills'][0]['price']\n",
    "            print(\"Purchase order executed:\", order)\n",
    "        elif direccion == 'Sell':\n",
    "            order = mclient.order_market_buy(symbol=f\"{activo}\"+'USDT', quantity=cantidad,type = 'MARKET')\n",
    "            price_eject = order['fills'][0]['price']\n",
    "            print(\"Sell ​​order executed:\", order)\n",
    "        else:\n",
    "            price_eject = 0\n",
    "        print('No order is placed')"
   ]
  },
  {
   "cell_type": "code",
   "execution_count": 62,
   "metadata": {},
   "outputs": [],
   "source": [
    "def run_agent(ticker,period):\n",
    "    data = get_data(ticker,period)\n",
    "    data = get_indicators(data)\n",
    "    data = get_signal(data)\n",
    "\n",
    "    system_prompt = (\n",
    "    '#Instructions: \\n'\n",
    "    'Act as an experienced cryptocurrency trader who helps users identify market trends.\\n'\n",
    "    'You help people who want to trade according to their strategy, however, they want an experts opinion regarding their decision to buy or sell, which is not based only on their strategy but also on your expertise.\\n'\n",
    "    'You are provided with a' + f\"{mbalance}\" + 'that represents the total amount available that the user has to trade, on the asset that the user provides you.\\n'\n",
    "    'Make the decision to buy or sell the asset according to the users strategy and also on the pool of technical indicators that will be shared with you.\\n'\n",
    "    'The value in USD of each individual operation must not exceed the' + f\"{mbalance}\" + 'and the operations must have a size that allows trading with what is available in' + f\"{mbalance}\" + 'and also allows handling market volatility.\\n'\n",
    "    'Do not suggest or provide a reasoning for the order when the suggested order size (both for new positions and for adding to existing positions) is less than 100 USD.\\n'\n",
    "    '# Available options:\\n'\n",
    "    '- close a position only when there is a moving average crossover opposite to the crossover with which a trade is opened\\n'\n",
    "    '- there must not be 2 open positions in the same week'\n",
    "    '# Fields for each option:\\n'\n",
    "    '- asset: the asset to be trade is the' + f\"{data['ASSET'].iloc[0]}\" +'cryptocurrency\\n'\n",
    "    '- direction: the direction to trade\\n'\n",
    "    '\\t- example: buy, sell\\n'\n",
    "    '- size: the size of the trade denominated in USD. It should be greater than 10 and should not use all of the' + f\"{mbalance}\" + 'leaving sufficient funds available to risk management.\\n'\n",
    "    '- reasoning: the reasoning for the decision\\n'\n",
    "    'if in the variable' + f\"{data['Trade_Signal'].iloc[-1]}\" + 'there is a BUY signal then you should take a long or buy position if the other indicators you check confirm it\\n'\n",
    "    'if in the variable' + f\"{data['Trade_Signal'].iloc[-1]}\" + 'there is a SELL signal then you should take a short or sell position if the other indicators you check confirm it'\n",
    "    )\n",
    "        \n",
    "    user_message = (\n",
    "    '# Instructions:\\n'\n",
    "    'Here are some details about me, can you help me make decisions about what position I should take?\\n'\n",
    "    'I need to place a trade weekly\\n'\n",
    "    '# Available Balance\\n'\n",
    "    'The available balance to trade is' + f\"{mbalance}\" + 'however each trade must be 100 USDT\\n'\n",
    "    'This' + f\"{mbalance}\" + 'can be used to place new orders or modify existing positions.\\n'\n",
    "    'Always leave a fraction of the' + f\"{mbalance}\" + 'total as a safety cushion for unforeseen volatility.\\n'\n",
    "    'The' + f\"{mbalance}\" + 'is shared by all positions, so its important to keep track of the available value and adjust your position sizes accordingly.\\n'\n",
    "    '# This is the most recent information I want to base my decisions on:\\n'\n",
    "    'My strategy is based on the crossover of moving averages, whose signal of trade that is ' + f\"{data['Trade_Signal'].iloc[-1]}\" + 'this can be BUY or SELL, but as I understand that this is a decision that can be influenced by other indicators, I ask you based on your experience to evaluate the following indicators\\n'\n",
    "    f\"\"\"\n",
    "    Technical analysis data for the asset:\n",
    "    - SMA 20: {data['SMA_20'].iloc[-1]}\"\n",
    "    - SMA 50: {data['SMA_50'].iloc[-1]}\n",
    "    - RSI: {data['RSI'].iloc[-1]}\n",
    "    - MACD: {data['MACD_Signal'].iloc[-1]}\n",
    "    - Short mean reversion: {data['upper_band'].iloc[-1]}\n",
    "    - Long mean reversion: {data['lower_band'].iloc[-1]}\n",
    "    \"\"\"\n",
    "    'In addition to all the advice you give me, I need you to always summarize your conclusion with these points **Asset**, **Direction** (here the options are buy, sell, hold) and **Operation size**, in case it is to hold and a new position is not generated, then suggest 0 for size'    \n",
    "    )\n",
    "\n",
    "    masset, mdirection, msize = get_chat(system_prompt,user_message)\n",
    "    get_trade(mdirection, masset[0:3])"
   ]
  },
  {
   "cell_type": "code",
   "execution_count": 64,
   "metadata": {},
   "outputs": [
    {
     "name": "stdout",
     "output_type": "stream",
     "text": [
      "Based on your strategy and the provided technical indicators, let's analyze the situation.\n",
      "\n",
      "1. **Moving Averages**: The SMA 20 is above the SMA 50 (101180.027 vs. 100119.475), which typically indicates a bullish sentiment. However, the gap suggests there might be caution as the current price trend may not be sustainably upward considering the short-term versus long-term perspective.\n",
      "\n",
      "2. **RSI**: At 21.88, the RSI indicates the asset is oversold. Generally, an RSI below 30 suggests that the asset could potentially be undervalued, making it a candidate for a buy signal.\n",
      "\n",
      "3. **MACD**: The MACD figure is relatively high (155.50), generally suggesting bullish momentum. However, without knowing the MACD signal line and historical values, it’s important to conclude that while momentum is present, it might not indicate an immediate strong buying opportunity without confirmation.\n",
      "\n",
      "4. **Mean Reversion**: The short mean reversion at 108605.31 suggests a rebound target, while the long mean reversion at 93754.74 indicates a lower resistance level. This might imply space for potential upside, while active prices must be below the short mean reversion.\n",
      "\n",
      "Considering the overall analysis, with strong oversold conditions (RSI), an upward crossover in moving averages, and potential for mean reversion, it seems favorable to lean towards the bullish side; however, caution remains necessary due to the existing market conditions.\n",
      "\n",
      "### Conclusion:\n",
      "- **Asset**: BTC\n",
      "- **Direction**: Buy\n",
      "- **Operation size**: 100 USDT \n",
      "\n",
      "This position will allow you to capitalize on potential price recovery while managing risk appropriately.\n",
      "Purchase order executed: {'symbol': 'BTCUSDT', 'orderId': 25100876, 'orderListId': -1, 'clientOrderId': 'x-HNA2TXFJ8ac91855e19b1ea26addf9', 'transactTime': 1736268075603, 'price': '0.00000000', 'origQty': '0.00100000', 'executedQty': '0.00100000', 'origQuoteOrderQty': '0.00000000', 'cummulativeQuoteQty': '97.89521000', 'status': 'FILLED', 'timeInForce': 'GTC', 'type': 'MARKET', 'side': 'BUY', 'workingTime': 1736268075603, 'fills': [{'price': '97895.21000000', 'qty': '0.00100000', 'commission': '0.00000000', 'commissionAsset': 'BTC', 'tradeId': 6748751}], 'selfTradePreventionMode': 'EXPIRE_MAKER'}\n"
     ]
    }
   ],
   "source": [
    "run_agent('BTCUSDT','1h')"
   ]
  },
  {
   "cell_type": "markdown",
   "metadata": {},
   "source": [
    "# Scheduled Agent Execution\n",
    "This code runs a trading agent for BTCUSDT pair every minute, executing exactly 3 times before stopping. \n",
    "It uses a simple counter approach with the schedule library for precise timing control."
   ]
  },
  {
   "cell_type": "code",
   "execution_count": 45,
   "metadata": {},
   "outputs": [
    {
     "data": {
      "text/plain": [
       "'\\nfor i in range(3):  # Will run 3 times\\n    run_agent(\\'BTCUSDT\\', \\'1h\\')\\n    print(f\"Execution {i+1} of 3 completed\")\\n    if i < 2:  # Don\\'t sleep after the last execution\\n        time.sleep(60)  # Wait 1 minute between executions\\n        \\nprint(\"All 3 executions completed!\")\\n'"
      ]
     },
     "execution_count": 45,
     "metadata": {},
     "output_type": "execute_result"
    }
   ],
   "source": [
    "\"\"\"\n",
    "for i in range(3):  # Will run 3 times\n",
    "    run_agent('BTCUSDT', '1h')\n",
    "    print(f\"Execution {i+1} of 3 completed\")\n",
    "    if i < 2:  # Don't sleep after the last execution\n",
    "        time.sleep(60)  # Wait 1 minute between executions\n",
    "        \n",
    "print(\"All 3 executions completed!\")\n",
    "\"\"\""
   ]
  }
 ],
 "metadata": {
  "kernelspec": {
   "display_name": "agentes",
   "language": "python",
   "name": "python3"
  },
  "language_info": {
   "codemirror_mode": {
    "name": "ipython",
    "version": 3
   },
   "file_extension": ".py",
   "mimetype": "text/x-python",
   "name": "python",
   "nbconvert_exporter": "python",
   "pygments_lexer": "ipython3",
   "version": "3.12.3"
  }
 },
 "nbformat": 4,
 "nbformat_minor": 2
}
