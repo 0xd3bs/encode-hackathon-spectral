{
 "cells": [
  {
   "cell_type": "markdown",
   "metadata": {},
   "source": [
    "# Libraries import\n",
    "- Data wrangling and indicators generate\n",
    "- api to trade (Binance)\n",
    "- api llm (openai)"
   ]
  },
  {
   "cell_type": "code",
   "execution_count": 27,
   "metadata": {},
   "outputs": [
    {
     "data": {
      "text/plain": [
       "True"
      ]
     },
     "execution_count": 27,
     "metadata": {},
     "output_type": "execute_result"
    }
   ],
   "source": [
    "import pandas as pd\n",
    "import numpy as np\n",
    "from datetime import datetime\n",
    "import schedule\n",
    "import ta\n",
    "import time\n",
    "import re\n",
    "\n",
    "from binance.client import Client\n",
    "\n",
    "import openai\n",
    "import os\n",
    "from dotenv import load_dotenv\n",
    "from openai import OpenAI\n",
    "load_dotenv()"
   ]
  },
  {
   "cell_type": "markdown",
   "metadata": {},
   "source": [
    "# APIS Configuration"
   ]
  },
  {
   "cell_type": "code",
   "execution_count": 28,
   "metadata": {},
   "outputs": [],
   "source": [
    "mclient = Client(os.getenv(\"BINANCE_API_KEY\"), api_secret = os.getenv(\"BINANCE_API_SECRET\"),testnet=True)"
   ]
  },
  {
   "cell_type": "code",
   "execution_count": 29,
   "metadata": {},
   "outputs": [],
   "source": [
    "openai_client = OpenAI(api_key=os.getenv(\"OPENAI_API_KEY\"))"
   ]
  },
  {
   "cell_type": "markdown",
   "metadata": {},
   "source": [
    "# We build functions\n",
    "- Data download\n",
    "- Calculation of indicators\n",
    "- Signals\n",
    "- Operations executor\n",
    "- Log function\n",
    "- Agent executor"
   ]
  },
  {
   "cell_type": "code",
   "execution_count": 30,
   "metadata": {},
   "outputs": [],
   "source": [
    "def get_data(ticker,period):  \n",
    "    klines = mclient.get_historical_klines(ticker, period, limit = 1000) #since, to\n",
    "    df = pd.DataFrame(klines)\n",
    "    df = df.iloc[:,[0,1,2,3,4,5,7,8,9,10]] \n",
    "    df.columns = ['Time','Open','High','Low','Close','VolumeCurr','VolumeUSD','Trades','VolumeBase','Volume2']\n",
    "    df = df.set_index('Time')\n",
    "    df.index = pd.to_datetime(df.index, unit='ms')\n",
    "    df=df.astype(\"float\")\n",
    "    df['ASSET'] = f\"{ticker}\"[0:3] \n",
    "    return df"
   ]
  },
  {
   "cell_type": "code",
   "execution_count": 31,
   "metadata": {},
   "outputs": [],
   "source": [
    "def get_indicators(df):\n",
    "    df['var_pct'] = df['Close'].pct_change()\n",
    "    df = df.dropna(subset=['var_pct'])\n",
    "    df['SMA_20'] = ta.trend.sma_indicator(df['Close'], window=20)\n",
    "    df['SMA_50'] = ta.trend.sma_indicator(df['Close'], window=50)\n",
    "    df['RSI'] = ta.momentum.rsi(df['Close'], window=14)\n",
    "    df['MACD'] = ta.trend.macd(df['Close'])\n",
    "    df['MACD_Signal'] = ta.trend.macd_signal(df['Close'])\n",
    "\n",
    "    df['MA20'] = df['Close'].rolling(20).mean()\n",
    "    df['MA100'] = df['Close'].rolling(100).mean()\n",
    "    \n",
    "    df['Signal'] = 0.0\n",
    "    df['Signal'][df['MA20'] > df['MA100']] = 1.0\n",
    "    df['Signal'][df['MA20'] < df['MA100']] = -1.0\n",
    "\n",
    "    df['Plog_ret'] = np.log(df.Close) - np.log(df.Close.shift(1))\n",
    "    df['pup_6std'] = df.Close*(1+(df.Plog_ret.mean() + 6*df.Plog_ret.std()))\n",
    "    df['pdown_6std'] = df.Close*(1+(df.Plog_ret.mean() - 6*df.Plog_ret.std()))\n",
    "\n",
    "    df['std_dev'] = df['Close'].rolling(window=20).std()\n",
    "    df['upper_band'] = df['SMA_20'] + (6 * df['std_dev'])\n",
    "    df['lower_band'] = df['SMA_20'] - (6 * df['std_dev'])\n",
    "    return df"
   ]
  },
  {
   "cell_type": "code",
   "execution_count": 32,
   "metadata": {},
   "outputs": [],
   "source": [
    "def get_signal(df):\n",
    "\n",
    "    buy_signals = (df['Signal'].shift(1) == -1.0) & (df['Signal'] == 1.0)\n",
    "    sell_signals = (df['Signal'].shift(1) == 1.0) & (df['Signal'] == -1.0)\n",
    "\n",
    "    df.loc[buy_signals, 'Trade_Signal'] = 'BUY'\n",
    "\n",
    "    df.loc[sell_signals, 'Trade_Signal'] = 'SELL'\n",
    "    return df"
   ]
  },
  {
   "cell_type": "code",
   "execution_count": 33,
   "metadata": {},
   "outputs": [],
   "source": [
    "mbalance = mclient.get_asset_balance(asset='USDT')"
   ]
  },
  {
   "cell_type": "code",
   "execution_count": 34,
   "metadata": {},
   "outputs": [],
   "source": [
    "def get_chat(system_prompt,user_message):\n",
    "    completion = openai_client.beta.chat.completions.parse(\n",
    "    model=\"gpt-4o-mini\",\n",
    "    messages=[\n",
    "      {\"role\":'system','content':system_prompt},\n",
    "      {\"role\": \"user\", \"content\": user_message}\n",
    "    ]\n",
    "  )\n",
    "    respon = completion.choices[0].message.content\n",
    "    masset = re.search(r\"\\*\\*Asset\\*\\*: (\\w+)\",respon).group(1)\n",
    "    direction = re.search(r\"\\*\\*Direction\\*\\*: (\\w+)\",respon).group(1)\n",
    "    if direction == 'Hold':\n",
    "        msize = 0\n",
    "    else:\n",
    "        msize = re.search(r\"\\*\\*Operation size\\*\\*: (\\d+ USD)\",respon).group(1)[0:3]\n",
    "    print(respon)\n",
    "    return masset, direction, msize"
   ]
  },
  {
   "cell_type": "code",
   "execution_count": 35,
   "metadata": {},
   "outputs": [],
   "source": [
    "def get_trade(direccion, activo):\n",
    "    symbol_to_find = f\"{activo}\"+'USDT'\n",
    "    cantidad = round(100/float(next((item for item in mclient.get_all_tickers() if item['symbol'] == symbol_to_find), None)['price']),4)\n",
    "    global price_eject \n",
    "    if direccion == 'Buy':\n",
    "        order = mclient.order_market_buy(symbol=f\"{activo}\"+'USDT', quantity=cantidad,type = 'MARKET')\n",
    "        price_eject = order['fills'][0]['price']\n",
    "        print(\"Purchase order executed:\", order)\n",
    "    elif direccion == 'Sell':\n",
    "        order = mclient.order_market_buy(symbol=f\"{activo}\"+'USDT', quantity=cantidad,type = 'MARKET')\n",
    "        price_eject = order['fills'][0]['price']\n",
    "        print(\"Sell ​​order executed:\", order)\n",
    "    else:\n",
    "        price_eject = 0\n",
    "        print('No order is placed')"
   ]
  },
  {
   "cell_type": "code",
   "execution_count": 36,
   "metadata": {},
   "outputs": [],
   "source": [
    "def run_agent(ticker,period):\n",
    "    data = get_data(ticker,period)\n",
    "    data = get_indicators(data)\n",
    "    data = get_signal(data)\n",
    "\n",
    "    system_prompt = (\n",
    "    '#Instructions: \\n'\n",
    "    'Act as an experienced cryptocurrency trader who helps users identify market trends.\\n'\n",
    "    'You help people who want to trade according to their strategy, however, they want an experts opinion regarding their decision to buy or sell, which is not based only on their strategy but also on your expertise.\\n'\n",
    "    'You are provided with a' + f\"{mbalance}\" + 'that represents the total amount available that the user has to trade, on the asset that the user provides you.\\n'\n",
    "    'Make the decision to buy or sell the asset according to the users strategy and also on the pool of technical indicators that will be shared with you.\\n'\n",
    "    'The value in USD of each individual operation must not exceed the' + f\"{mbalance}\" + 'and the operations must have a size that allows trading with what is available in' + f\"{mbalance}\" + 'and also allows handling market volatility.\\n'\n",
    "    'Do not suggest or provide a reasoning for the order when the suggested order size (both for new positions and for adding to existing positions) is less than 100 USD.\\n'\n",
    "    '# Available options:\\n'\n",
    "    '- close a position only when there is a moving average crossover opposite to the crossover with which a trade is opened\\n'\n",
    "    '- there must not be 2 open positions in the same week'\n",
    "    '# Fields for each option:\\n'\n",
    "    '- asset: the asset to be trade is the' + f\"{data['ASSET'][0]}\" +'cryptocurrency\\n'\n",
    "    '- direction: the direction to trade\\n'\n",
    "    '\\t- example: buy, sell\\n'\n",
    "    '- size: the size of the trade denominated in USD. It should be greater than 10 and should not use all of the' + f\"{mbalance}\" + 'leaving sufficient funds available to risk management.\\n'\n",
    "    '- reasoning: the reasoning for the decision\\n'\n",
    "    'if in the variable' + f\"{data['Trade_Signal'].iloc[-1]}\" + 'there is a BUY signal then you should take a long or buy position if the other indicators you check confirm it\\n'\n",
    "    'if in the variable' + f\"{data['Trade_Signal'].iloc[-1]}\" + 'there is a SELL signal then you should take a short or sell position if the other indicators you check confirm it'\n",
    "    )\n",
    "        \n",
    "    user_message = (\n",
    "    '# Instructions:\\n'\n",
    "    'Here are some details about me, can you help me make decisions about what position I should take?\\n'\n",
    "    'I need to place a trade weekly\\n'\n",
    "    '# Available Balance\\n'\n",
    "    'The available balance to trade is' + f\"{mbalance}\" + 'however each trade must be 100 USDT\\n'\n",
    "    'This' + f\"{mbalance}\" + 'can be used to place new orders or modify existing positions.\\n'\n",
    "    'Always leave a fraction of the' + f\"{mbalance}\" + 'total as a safety cushion for unforeseen volatility.\\n'\n",
    "    'The' + f\"{mbalance}\" + 'is shared by all positions, so its important to keep track of the available value and adjust your position sizes accordingly.\\n'\n",
    "    '# This is the most recent information I want to base my decisions on:\\n'\n",
    "    'My strategy is based on the crossover of moving averages, whose signal of trade that is ' + f\"{data['Trade_Signal'].iloc[-1]}\" + 'this can be BUY or SELL, but as I understand that this is a decision that can be influenced by other indicators, I ask you based on your experience to evaluate the following indicators\\n'\n",
    "    f\"\"\"\n",
    "    Technical analysis data for the asset:\n",
    "    - SMA 20: {data['SMA_20'].iloc[-1]}\"\n",
    "    - SMA 50: {data['SMA_50'].iloc[-1]}\n",
    "    - RSI: {data['RSI'].iloc[-1]}\n",
    "    - MACD: {data['MACD_Signal'].iloc[-1]}\n",
    "    - Short mean reversion: {data['upper_band'].iloc[-1]}\n",
    "    - Long mean reversion: {data['lower_band'].iloc[-1]}\n",
    "    \"\"\"\n",
    "    'In addition to all the advice you give me, I need you to always summarize your conclusion with these points **Asset**, **Direction** (here the options are buy, sell, hold) and **Operation size**, in case it is to hold and a new position is not generated, then suggest 0 for size'    \n",
    "    )\n",
    "\n",
    "    masset, mdirection, msize = get_chat(system_prompt,user_message)\n",
    "    get_trade(mdirection, masset[0:3])"
   ]
  },
  {
   "cell_type": "code",
   "execution_count": 44,
   "metadata": {},
   "outputs": [
    {
     "name": "stderr",
     "output_type": "stream",
     "text": [
      "/tmp/ipykernel_3961/2401907398.py:4: SettingWithCopyWarning: \n",
      "A value is trying to be set on a copy of a slice from a DataFrame.\n",
      "Try using .loc[row_indexer,col_indexer] = value instead\n",
      "\n",
      "See the caveats in the documentation: https://pandas.pydata.org/pandas-docs/stable/user_guide/indexing.html#returning-a-view-versus-a-copy\n",
      "  df['SMA_20'] = ta.trend.sma_indicator(df['Close'], window=20)\n",
      "/tmp/ipykernel_3961/2401907398.py:5: SettingWithCopyWarning: \n",
      "A value is trying to be set on a copy of a slice from a DataFrame.\n",
      "Try using .loc[row_indexer,col_indexer] = value instead\n",
      "\n",
      "See the caveats in the documentation: https://pandas.pydata.org/pandas-docs/stable/user_guide/indexing.html#returning-a-view-versus-a-copy\n",
      "  df['SMA_50'] = ta.trend.sma_indicator(df['Close'], window=50)\n",
      "/tmp/ipykernel_3961/2401907398.py:6: SettingWithCopyWarning: \n",
      "A value is trying to be set on a copy of a slice from a DataFrame.\n",
      "Try using .loc[row_indexer,col_indexer] = value instead\n",
      "\n",
      "See the caveats in the documentation: https://pandas.pydata.org/pandas-docs/stable/user_guide/indexing.html#returning-a-view-versus-a-copy\n",
      "  df['RSI'] = ta.momentum.rsi(df['Close'], window=14)\n",
      "/tmp/ipykernel_3961/2401907398.py:7: SettingWithCopyWarning: \n",
      "A value is trying to be set on a copy of a slice from a DataFrame.\n",
      "Try using .loc[row_indexer,col_indexer] = value instead\n",
      "\n",
      "See the caveats in the documentation: https://pandas.pydata.org/pandas-docs/stable/user_guide/indexing.html#returning-a-view-versus-a-copy\n",
      "  df['MACD'] = ta.trend.macd(df['Close'])\n",
      "/tmp/ipykernel_3961/2401907398.py:8: SettingWithCopyWarning: \n",
      "A value is trying to be set on a copy of a slice from a DataFrame.\n",
      "Try using .loc[row_indexer,col_indexer] = value instead\n",
      "\n",
      "See the caveats in the documentation: https://pandas.pydata.org/pandas-docs/stable/user_guide/indexing.html#returning-a-view-versus-a-copy\n",
      "  df['MACD_Signal'] = ta.trend.macd_signal(df['Close'])\n",
      "/tmp/ipykernel_3961/2401907398.py:10: SettingWithCopyWarning: \n",
      "A value is trying to be set on a copy of a slice from a DataFrame.\n",
      "Try using .loc[row_indexer,col_indexer] = value instead\n",
      "\n",
      "See the caveats in the documentation: https://pandas.pydata.org/pandas-docs/stable/user_guide/indexing.html#returning-a-view-versus-a-copy\n",
      "  df['MA20'] = df['Close'].rolling(20).mean()\n",
      "/tmp/ipykernel_3961/2401907398.py:11: SettingWithCopyWarning: \n",
      "A value is trying to be set on a copy of a slice from a DataFrame.\n",
      "Try using .loc[row_indexer,col_indexer] = value instead\n",
      "\n",
      "See the caveats in the documentation: https://pandas.pydata.org/pandas-docs/stable/user_guide/indexing.html#returning-a-view-versus-a-copy\n",
      "  df['MA100'] = df['Close'].rolling(100).mean()\n",
      "/tmp/ipykernel_3961/2401907398.py:13: SettingWithCopyWarning: \n",
      "A value is trying to be set on a copy of a slice from a DataFrame.\n",
      "Try using .loc[row_indexer,col_indexer] = value instead\n",
      "\n",
      "See the caveats in the documentation: https://pandas.pydata.org/pandas-docs/stable/user_guide/indexing.html#returning-a-view-versus-a-copy\n",
      "  df['Signal'] = 0.0\n",
      "/tmp/ipykernel_3961/2401907398.py:14: FutureWarning: ChainedAssignmentError: behaviour will change in pandas 3.0!\n",
      "You are setting values through chained assignment. Currently this works in certain cases, but when using Copy-on-Write (which will become the default behaviour in pandas 3.0) this will never work to update the original DataFrame or Series, because the intermediate object on which we are setting values will behave as a copy.\n",
      "A typical example is when you are setting values in a column of a DataFrame, like:\n",
      "\n",
      "df[\"col\"][row_indexer] = value\n",
      "\n",
      "Use `df.loc[row_indexer, \"col\"] = values` instead, to perform the assignment in a single step and ensure this keeps updating the original `df`.\n",
      "\n",
      "See the caveats in the documentation: https://pandas.pydata.org/pandas-docs/stable/user_guide/indexing.html#returning-a-view-versus-a-copy\n",
      "\n",
      "  df['Signal'][df['MA20'] > df['MA100']] = 1.0\n",
      "/tmp/ipykernel_3961/2401907398.py:14: SettingWithCopyWarning: \n",
      "A value is trying to be set on a copy of a slice from a DataFrame\n",
      "\n",
      "See the caveats in the documentation: https://pandas.pydata.org/pandas-docs/stable/user_guide/indexing.html#returning-a-view-versus-a-copy\n",
      "  df['Signal'][df['MA20'] > df['MA100']] = 1.0\n",
      "/tmp/ipykernel_3961/2401907398.py:14: SettingWithCopyWarning: \n",
      "A value is trying to be set on a copy of a slice from a DataFrame\n",
      "\n",
      "See the caveats in the documentation: https://pandas.pydata.org/pandas-docs/stable/user_guide/indexing.html#returning-a-view-versus-a-copy\n",
      "  df['Signal'][df['MA20'] > df['MA100']] = 1.0\n",
      "/tmp/ipykernel_3961/2401907398.py:15: FutureWarning: ChainedAssignmentError: behaviour will change in pandas 3.0!\n",
      "You are setting values through chained assignment. Currently this works in certain cases, but when using Copy-on-Write (which will become the default behaviour in pandas 3.0) this will never work to update the original DataFrame or Series, because the intermediate object on which we are setting values will behave as a copy.\n",
      "A typical example is when you are setting values in a column of a DataFrame, like:\n",
      "\n",
      "df[\"col\"][row_indexer] = value\n",
      "\n",
      "Use `df.loc[row_indexer, \"col\"] = values` instead, to perform the assignment in a single step and ensure this keeps updating the original `df`.\n",
      "\n",
      "See the caveats in the documentation: https://pandas.pydata.org/pandas-docs/stable/user_guide/indexing.html#returning-a-view-versus-a-copy\n",
      "\n",
      "  df['Signal'][df['MA20'] < df['MA100']] = -1.0\n",
      "/tmp/ipykernel_3961/2401907398.py:15: SettingWithCopyWarning: \n",
      "A value is trying to be set on a copy of a slice from a DataFrame\n",
      "\n",
      "See the caveats in the documentation: https://pandas.pydata.org/pandas-docs/stable/user_guide/indexing.html#returning-a-view-versus-a-copy\n",
      "  df['Signal'][df['MA20'] < df['MA100']] = -1.0\n",
      "/tmp/ipykernel_3961/2401907398.py:15: SettingWithCopyWarning: \n",
      "A value is trying to be set on a copy of a slice from a DataFrame\n",
      "\n",
      "See the caveats in the documentation: https://pandas.pydata.org/pandas-docs/stable/user_guide/indexing.html#returning-a-view-versus-a-copy\n",
      "  df['Signal'][df['MA20'] < df['MA100']] = -1.0\n",
      "/tmp/ipykernel_3961/2401907398.py:17: SettingWithCopyWarning: \n",
      "A value is trying to be set on a copy of a slice from a DataFrame.\n",
      "Try using .loc[row_indexer,col_indexer] = value instead\n",
      "\n",
      "See the caveats in the documentation: https://pandas.pydata.org/pandas-docs/stable/user_guide/indexing.html#returning-a-view-versus-a-copy\n",
      "  df['Plog_ret'] = np.log(df.Close) - np.log(df.Close.shift(1))\n",
      "/tmp/ipykernel_3961/2401907398.py:18: SettingWithCopyWarning: \n",
      "A value is trying to be set on a copy of a slice from a DataFrame.\n",
      "Try using .loc[row_indexer,col_indexer] = value instead\n",
      "\n",
      "See the caveats in the documentation: https://pandas.pydata.org/pandas-docs/stable/user_guide/indexing.html#returning-a-view-versus-a-copy\n",
      "  df['pup_6std'] = df.Close*(1+(df.Plog_ret.mean() + 6*df.Plog_ret.std()))\n",
      "/tmp/ipykernel_3961/2401907398.py:19: SettingWithCopyWarning: \n",
      "A value is trying to be set on a copy of a slice from a DataFrame.\n",
      "Try using .loc[row_indexer,col_indexer] = value instead\n",
      "\n",
      "See the caveats in the documentation: https://pandas.pydata.org/pandas-docs/stable/user_guide/indexing.html#returning-a-view-versus-a-copy\n",
      "  df['pdown_6std'] = df.Close*(1+(df.Plog_ret.mean() - 6*df.Plog_ret.std()))\n",
      "/tmp/ipykernel_3961/2401907398.py:21: SettingWithCopyWarning: \n",
      "A value is trying to be set on a copy of a slice from a DataFrame.\n",
      "Try using .loc[row_indexer,col_indexer] = value instead\n",
      "\n",
      "See the caveats in the documentation: https://pandas.pydata.org/pandas-docs/stable/user_guide/indexing.html#returning-a-view-versus-a-copy\n",
      "  df['std_dev'] = df['Close'].rolling(window=20).std()\n",
      "/tmp/ipykernel_3961/2401907398.py:22: SettingWithCopyWarning: \n",
      "A value is trying to be set on a copy of a slice from a DataFrame.\n",
      "Try using .loc[row_indexer,col_indexer] = value instead\n",
      "\n",
      "See the caveats in the documentation: https://pandas.pydata.org/pandas-docs/stable/user_guide/indexing.html#returning-a-view-versus-a-copy\n",
      "  df['upper_band'] = df['SMA_20'] + (6 * df['std_dev'])\n",
      "/tmp/ipykernel_3961/2401907398.py:23: SettingWithCopyWarning: \n",
      "A value is trying to be set on a copy of a slice from a DataFrame.\n",
      "Try using .loc[row_indexer,col_indexer] = value instead\n",
      "\n",
      "See the caveats in the documentation: https://pandas.pydata.org/pandas-docs/stable/user_guide/indexing.html#returning-a-view-versus-a-copy\n",
      "  df['lower_band'] = df['SMA_20'] - (6 * df['std_dev'])\n",
      "/tmp/ipykernel_3961/1324702282.py:18: FutureWarning: Series.__getitem__ treating keys as positions is deprecated. In a future version, integer keys will always be treated as labels (consistent with DataFrame behavior). To access a value by position, use `ser.iloc[pos]`\n",
      "  '- asset: the asset to be trade is the' + f\"{data['ASSET'][0]}\" +'cryptocurrency\\n'\n"
     ]
    },
    {
     "name": "stdout",
     "output_type": "stream",
     "text": [
      "Based on the technical analysis data you've provided, let's evaluate the indicators for making a decision:\n",
      "\n",
      "1. **SMA (Simple Moving Averages)**:\n",
      "   - The SMA 20 (short-term) is at **100870.917**, which is higher than the SMA 50 (long-term) at **99330.705**. This typically indicates a bullish trend, suggesting potential buying signals.\n",
      "   \n",
      "2. **RSI (Relative Strength Index)**:\n",
      "   - The RSI is at **69.02**, which is above the level of **70** where it typically indicates overbought conditions. This suggests caution, as prices may correct soon, which could lead to selling opportunities.\n",
      "\n",
      "3. **MACD (Moving Average Convergence Divergence)**:\n",
      "   - The MACD value is **848.987**, usually reflecting a continuing bullish trend, confirmed by being above the signal line. \n",
      "\n",
      "4. **Mean Reversion**:\n",
      "   - Comparing the short mean reversion of **109197.1837** and long mean reversion of **92544.650279** indicates a broader range, suggesting that the asset could drift back to the mean on either side, but currently leans toward being relatively high.\n",
      "\n",
      "**Overall Assessment**:\n",
      "Given that the short-term trend is bullish (SMA crossover), and the MACD confirms this, there is a bullish sentiment. However, the RSI indicates that the asset is approaching overbought territory, making a buy more risky.\n",
      "\n",
      "Taking all of this into account, you should consider what's best within this context while ensuring risk management. It is advisable to hold off on a new position until the RSI shows signs of pulling back from overbought levels, as it may lead to better entry points.\n",
      "\n",
      "**Conclusion**:\n",
      "- **Asset**: BTC\n",
      "- **Direction**: Hold \n",
      "- **Operation size**: 0 \n",
      "\n",
      "It's prudent to wait for clearer signals or a possible price cooldown to buy or sell. If new opportunities arise within your trading week and the conditions change favorably, consider re-evaluating at that time.\n",
      "No order is placed\n"
     ]
    }
   ],
   "source": [
    "run_agent('BTCUSDT','1h')"
   ]
  },
  {
   "cell_type": "markdown",
   "metadata": {},
   "source": [
    "# Scheduled Agent Execution\n",
    "This code runs a trading agent for BTCUSDT pair every minute, executing exactly 3 times before stopping. \n",
    "It uses a simple counter approach with the schedule library for precise timing control."
   ]
  },
  {
   "cell_type": "code",
   "execution_count": 45,
   "metadata": {},
   "outputs": [
    {
     "data": {
      "text/plain": [
       "'\\nfor i in range(3):  # Will run 3 times\\n    run_agent(\\'BTCUSDT\\', \\'1h\\')\\n    print(f\"Execution {i+1} of 3 completed\")\\n    if i < 2:  # Don\\'t sleep after the last execution\\n        time.sleep(60)  # Wait 1 minute between executions\\n        \\nprint(\"All 3 executions completed!\")\\n'"
      ]
     },
     "execution_count": 45,
     "metadata": {},
     "output_type": "execute_result"
    }
   ],
   "source": [
    "\"\"\"\n",
    "for i in range(3):  # Will run 3 times\n",
    "    run_agent('BTCUSDT', '1h')\n",
    "    print(f\"Execution {i+1} of 3 completed\")\n",
    "    if i < 2:  # Don't sleep after the last execution\n",
    "        time.sleep(60)  # Wait 1 minute between executions\n",
    "        \n",
    "print(\"All 3 executions completed!\")\n",
    "\"\"\""
   ]
  }
 ],
 "metadata": {
  "kernelspec": {
   "display_name": "agentes",
   "language": "python",
   "name": "python3"
  },
  "language_info": {
   "codemirror_mode": {
    "name": "ipython",
    "version": 3
   },
   "file_extension": ".py",
   "mimetype": "text/x-python",
   "name": "python",
   "nbconvert_exporter": "python",
   "pygments_lexer": "ipython3",
   "version": "3.11.5"
  }
 },
 "nbformat": 4,
 "nbformat_minor": 2
}
